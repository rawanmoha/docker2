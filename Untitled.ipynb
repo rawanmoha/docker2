{
 "cells": [
  {
   "cell_type": "code",
   "execution_count": null,
   "id": "2bbfb34f-3380-4c80-aadb-9652b2d2c695",
   "metadata": {},
   "outputs": [],
   "source": [
    "#import libraries\n",
    "import pandas as pd"
   ]
  },
  {
   "cell_type": "code",
   "execution_count": 14,
   "id": "4094fbac-2b7d-4f06-a2dc-2db89127f0fe",
   "metadata": {},
   "outputs": [],
   "source": [
    "## Load the dataset\n",
    "df = pd.read_csv('books.csv')"
   ]
  },
  {
   "cell_type": "code",
   "execution_count": 8,
   "id": "697db7d9-f2d1-4d28-9644-57d62807d0b8",
   "metadata": {},
   "outputs": [
    {
     "name": "stdout",
     "output_type": "stream",
     "text": [
      "Index(['book_id', 'goodreads_book_id', 'best_book_id', 'work_id',\n",
      "       'books_count', 'isbn', 'isbn13', 'authors', 'original_publication_year',\n",
      "       'original_title', 'title', 'language_code', 'average_rating',\n",
      "       'ratings_count', 'work_ratings_count', 'work_text_reviews_count',\n",
      "       'ratings_1', 'ratings_2', 'ratings_3', 'ratings_4', 'ratings_5',\n",
      "       'image_url', 'small_image_url'],\n",
      "      dtype='object')\n"
     ]
    }
   ],
   "source": [
    "print(df.columns)\n"
   ]
  },
  {
   "cell_type": "code",
   "execution_count": 9,
   "id": "d1373050-9ad1-4098-8bd6-03e258c00e24",
   "metadata": {},
   "outputs": [],
   "source": [
    "# Filter the dataset for Harry Potter books\n",
    "harry_potter_books = df[df['title'].str.contains('Harry Potter', case=False)]"
   ]
  },
  {
   "cell_type": "code",
   "execution_count": 10,
   "id": "c6bf08cb-69b0-44b4-937d-f65ec9d1f588",
   "metadata": {},
   "outputs": [],
   "source": [
    "# Find the most selling books within the Harry Potter series\n",
    "most_selling_books = harry_potter_books.sort_values(by='ratings_count', ascending=False).head(1)"
   ]
  },
  {
   "cell_type": "code",
   "execution_count": 11,
   "id": "00211377-2a6e-4331-ad1a-02a2712b1964",
   "metadata": {},
   "outputs": [],
   "source": [
    "\n",
    "# Calculate the average rating of the Harry Potter books\n",
    "average_rating = harry_potter_books['average_rating'].mean()\n"
   ]
  },
  {
   "cell_type": "code",
   "execution_count": 12,
   "id": "15470b12-0058-4987-8a41-c141f78e1bda",
   "metadata": {},
   "outputs": [
    {
     "name": "stdout",
     "output_type": "stream",
     "text": [
      "Most Selling Book within Harry Potter series:\n",
      "                                               title  ratings_count\n",
      "1  Harry Potter and the Sorcerer's Stone (Harry P...        4602479\n",
      "\n",
      "Average Rating of Harry Potter Books: 4.482727272727273\n"
     ]
    }
   ],
   "source": [
    "\n",
    "# Print the most selling book and average rating\n",
    "print(\"Most Selling Book within Harry Potter series:\")\n",
    "print(most_selling_books[['title', 'ratings_count']])\n",
    "print(\"\\nAverage Rating of Harry Potter Books:\", average_rating)"
   ]
  },
  {
   "cell_type": "code",
   "execution_count": null,
   "id": "de99c2f7-3eb2-4ab8-b265-9ffb981b6d16",
   "metadata": {},
   "outputs": [],
   "source": []
  }
 ],
 "metadata": {
  "kernelspec": {
   "display_name": "Python 3 (ipykernel)",
   "language": "python",
   "name": "python3"
  },
  "language_info": {
   "codemirror_mode": {
    "name": "ipython",
    "version": 3
   },
   "file_extension": ".py",
   "mimetype": "text/x-python",
   "name": "python",
   "nbconvert_exporter": "python",
   "pygments_lexer": "ipython3",
   "version": "3.11.6"
  }
 },
 "nbformat": 4,
 "nbformat_minor": 5
}
